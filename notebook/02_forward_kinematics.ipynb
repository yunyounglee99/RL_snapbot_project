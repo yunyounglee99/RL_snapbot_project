{
 "cells": [
  {
   "cell_type": "markdown",
   "id": "ddd5809e-9b50-43f5-960e-dae741e16168",
   "metadata": {},
   "source": [
    "### Kinematics\n",
    "```\n",
    "Kinematics in Robotics defines a mapping between configuration space and task space\n",
    "```\n",
    "- `Configuration space`: space of (controllable) robot joint angles\n",
    "- `Task space`: Cartesian space (e.g., end effector poses)\n",
    "- Forward kinematics (FK) maps robot joint angles to the end-effector poses (i.e., positions and orientations)\n",
    "- Inverse kinematics (IK) maps the end-effector poses to the robot joint angles (solution may not exist)\n",
    "- Kinematics is not affected by Gravity\n",
    "\n",
    "In our implementation, kinematic simulation is done by `env.forward` and internally `mujoco.mj_forward` is called"
   ]
  },
  {
   "cell_type": "code",
   "execution_count": null,
   "id": "cc48df2d-e251-4f75-971b-3b9e02e0a43f",
   "metadata": {},
   "outputs": [],
   "source": [
    "import sys,mujoco\n",
    "sys.path.append('../package/helper/')\n",
    "sys.path.append('../package/mujoco_usage/')\n",
    "from mujoco_parser import *\n",
    "from slider import * # <= slider control\n",
    "from utility import *\n",
    "print (\"MuJoCo:[%s]\"%(mujoco.__version__))"
   ]
  },
  {
   "cell_type": "markdown",
   "id": "8c6cdce2-c401-44c8-992a-ca6c3cc6d6c6",
   "metadata": {},
   "source": [
    "#### Parse `Unitree G1`"
   ]
  },
  {
   "cell_type": "code",
   "execution_count": null,
   "id": "90b92a13-1be6-49b9-9f37-e74642328670",
   "metadata": {
    "scrolled": true
   },
   "outputs": [],
   "source": [
    "xml_path = '../asset/unitree_g1/scene_g1.xml'\n",
    "env = MuJoCoParserClass(name='Unitree G1',rel_xml_path=xml_path,verbose=True)"
   ]
  },
  {
   "cell_type": "markdown",
   "id": "36c63194-3016-4dee-b849-b75fff21cddf",
   "metadata": {},
   "source": [
    "#### Slider control of revolute joints of `G1`"
   ]
  },
  {
   "cell_type": "code",
   "execution_count": null,
   "id": "80339dcd-445c-4dbb-8088-da1e233e3373",
   "metadata": {},
   "outputs": [],
   "source": [
    "# Initialize slider control\n",
    "env.reset(step=True)\n",
    "init_qpos = env.get_qpos_joints(joint_names=env.rev_joint_names)\n",
    "sliders = MultiSliderClass(\n",
    "    n_slider      = env.n_rev_joint,\n",
    "    title         = 'Sliders for [%s] Control'%(env.name),\n",
    "    window_width  = 600,\n",
    "    window_height = 800,\n",
    "    x_offset      = 50,\n",
    "    y_offset      = 100,\n",
    "    slider_width  = 350,\n",
    "    label_texts   = env.rev_joint_names,\n",
    "    slider_mins   = env.rev_joint_mins,\n",
    "    slider_maxs   = env.rev_joint_maxs,\n",
    "    slider_vals   = init_qpos,\n",
    "    verbose       = False,\n",
    ")\n",
    "idxs_fwd = env.get_idxs_fwd(joint_names=env.rev_joint_names)\n",
    "# Loop\n",
    "env.init_viewer(transparent=True)\n",
    "while env.is_viewer_alive():\n",
    "    # Update\n",
    "    sliders.update()\n",
    "    env.forward(q=sliders.get_slider_values(),joint_idxs=idxs_fwd)\n",
    "    # Render\n",
    "    if env.loop_every(tick_every=10):\n",
    "        env.plot_joint_axis(axis_len=0.025,axis_r=0.005) # revolute joints\n",
    "        env.plot_links_between_bodies(rgba=(0,0,0,1),r=0.001) # link information\n",
    "        env.plot_contact_info()\n",
    "        env.render()\n",
    "# Close slider\n",
    "sliders.close()\n",
    "print (\"Done.\")"
   ]
  },
  {
   "cell_type": "markdown",
   "id": "2c91729b-0e03-4cc2-9093-2c47b71e4670",
   "metadata": {},
   "source": [
    "#### Parse `UR5e`"
   ]
  },
  {
   "cell_type": "code",
   "execution_count": null,
   "id": "8fdd2719-fac2-4303-bba1-544d7d5cbf5f",
   "metadata": {
    "scrolled": true
   },
   "outputs": [],
   "source": [
    "xml_path = '../asset/tabletop_manipulation/scene_ur5e_objects.xml'\n",
    "env = MuJoCoParserClass(name='UR5e',rel_xml_path=xml_path,verbose=True)"
   ]
  },
  {
   "cell_type": "markdown",
   "id": "3da44ac0-ef4b-4b39-9506-bf06713df33b",
   "metadata": {},
   "source": [
    "#### Slider control of `UR5e` using the same code used for `G1`"
   ]
  },
  {
   "cell_type": "code",
   "execution_count": null,
   "id": "ce3db15d-0c62-4786-bd4e-108ffd53524d",
   "metadata": {},
   "outputs": [],
   "source": [
    "# Initialize slider control\n",
    "env.reset(step=True)\n",
    "init_qpos = env.get_qpos_joints(joint_names=env.rev_joint_names)\n",
    "sliders = MultiSliderClass(\n",
    "    n_slider      = env.n_rev_joint,\n",
    "    title         = 'Sliders for [%s] Control'%(env.name),\n",
    "    window_width  = 600,\n",
    "    window_height = 800,\n",
    "    x_offset      = 50,\n",
    "    y_offset      = 100,\n",
    "    slider_width  = 300,\n",
    "    label_texts   = env.rev_joint_names,\n",
    "    slider_mins   = env.rev_joint_mins,\n",
    "    slider_maxs   = env.rev_joint_maxs,\n",
    "    slider_vals   = init_qpos,\n",
    "    verbose       = False,\n",
    ")\n",
    "idxs_fwd = env.get_idxs_fwd(joint_names=env.rev_joint_names)\n",
    "# Loop\n",
    "env.init_viewer(transparent=True)\n",
    "while env.is_viewer_alive():\n",
    "    # Update\n",
    "    sliders.update()\n",
    "    env.forward(q=sliders.get_slider_values(),joint_idxs=idxs_fwd)\n",
    "    # Render\n",
    "    if env.loop_every(tick_every=10):\n",
    "        env.plot_joint_axis(axis_len=0.025,axis_r=0.005) # revolute joints\n",
    "        env.plot_links_between_bodies(rgba=(0,0,0,1),r=0.001) # link information\n",
    "        env.plot_contact_info()\n",
    "        env.render()\n",
    "# Close slider\n",
    "sliders.close()\n",
    "print (\"Done.\")"
   ]
  },
  {
   "cell_type": "markdown",
   "id": "e92570db-d89a-49a7-bad5-dc4d130474c6",
   "metadata": {},
   "source": [
    "#### Arrange objects and render"
   ]
  },
  {
   "cell_type": "code",
   "execution_count": null,
   "id": "e476cdf1-ed98-4c41-a3a8-717a07213b8b",
   "metadata": {},
   "outputs": [],
   "source": [
    "# Initialize slider control\n",
    "env.reset(step=True)\n",
    "init_qpos = env.get_qpos_joints(joint_names=env.rev_joint_names)\n",
    "sliders = MultiSliderClass(\n",
    "    n_slider      = env.n_rev_joint,\n",
    "    title         = 'Sliders for [%s] Control'%(env.name),\n",
    "    window_width  = 600,\n",
    "    window_height = 800,\n",
    "    x_offset      = 50,\n",
    "    y_offset      = 100,\n",
    "    slider_width  = 300,\n",
    "    label_texts   = env.rev_joint_names,\n",
    "    slider_mins   = env.rev_joint_mins,\n",
    "    slider_maxs   = env.rev_joint_maxs,\n",
    "    slider_vals   = init_qpos,\n",
    "    verbose       = False,\n",
    ")\n",
    "idxs_fwd = env.get_idxs_fwd(joint_names=env.rev_joint_names)\n",
    "\n",
    "# Arrange objects\n",
    "obj_names = env.get_body_names(prefix='obj_')\n",
    "n_obj = len(obj_names)\n",
    "obj_xyzs = sample_xyzs(\n",
    "    n_sample  = n_obj,\n",
    "    x_range   = [+0.6,+1.0],\n",
    "    y_range   = [-0.45,+0.45],\n",
    "    z_range   = [0.8,0.81],\n",
    "    min_dist  = 0.2,\n",
    "    xy_margin = 0.0\n",
    ")\n",
    "for obj_idx in range(n_obj):\n",
    "    env.set_p_base_body(body_name=obj_names[obj_idx],p=obj_xyzs[obj_idx,:])\n",
    "    env.set_R_base_body(body_name=obj_names[obj_idx],R=np.eye(3,3))\n",
    "env.set_geom_color(body_names_to_color=obj_names,rgba_list=get_colors(n_obj))\n",
    "\n",
    "# Loop\n",
    "env.init_viewer(transparent=True)\n",
    "while env.is_viewer_alive():\n",
    "    # Update\n",
    "    sliders.update()\n",
    "    env.forward(q=sliders.get_slider_values(),joint_idxs=idxs_fwd)\n",
    "    # Render\n",
    "    if env.loop_every(tick_every=10):\n",
    "        env.plot_joint_axis(axis_len=0.025,axis_r=0.005) # revolute joints\n",
    "        env.plot_links_between_bodies(rgba=(0,0,0,1),r=0.001) # link information\n",
    "        env.plot_contact_info()\n",
    "        env.render()\n",
    "# Close slider\n",
    "sliders.close()\n",
    "print (\"Done.\")"
   ]
  },
  {
   "cell_type": "code",
   "execution_count": null,
   "id": "4e5f0ec6-664d-412a-ab39-aedd2af92fcf",
   "metadata": {},
   "outputs": [],
   "source": []
  }
 ],
 "metadata": {
  "kernelspec": {
   "display_name": "rl-env",
   "language": "python",
   "name": "python3"
  },
  "language_info": {
   "codemirror_mode": {
    "name": "ipython",
    "version": 3
   },
   "file_extension": ".py",
   "mimetype": "text/x-python",
   "name": "python",
   "nbconvert_exporter": "python",
   "pygments_lexer": "ipython3",
   "version": "3.10.16"
  }
 },
 "nbformat": 4,
 "nbformat_minor": 5
}

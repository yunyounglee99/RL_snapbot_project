{
 "cells": [
  {
   "cell_type": "markdown",
   "id": "ddd5809e-9b50-43f5-960e-dae741e16168",
   "metadata": {},
   "source": [
    "### Introduction to `MuJoCo`\n",
    "```\n",
    "MuJoCo is a free and open source physics engine that aims to facilitate research and development in robotics, biomechanics, graphics and animation, and other areas where fast and accurate simulation is needed.\n",
    "```\n",
    "- `MuJoCo` stands for `Mu`lti-`Jo`int dynamics with `Co`ntact\n",
    "- It is a (rigid-body) simulator\n",
    "- In my personal oppinion, a (proper) simulator consists of\n",
    "    - Rigid-body simulation by solving an equation of motion (e.g., an articulated body algorithm)\n",
    "    - Contact solver (main cause of sim-to-real gap)\n",
    "    - Easy-to-use visualizer (`VERY IMPORTANT` for conducting research)\n",
    " \n",
    "##### Throughout the tutorial following topics will be covered:\n",
    "1. Introduction to `MuJoCo` and our lab-maintained mujoco_parser\n",
    "2. Forward Kinematics\n",
    "3. Forward Dynamics\n",
    "4. Inverse Kinematics\n",
    "5. Inverse Dynamics\n",
    "6. Reinforcement Learning using `Soft Actor-Critic` of `Snapbot`\n",
    "\n",
    "# Enjoy!"
   ]
  },
  {
   "cell_type": "code",
   "execution_count": 1,
   "id": "cc48df2d-e251-4f75-971b-3b9e02e0a43f",
   "metadata": {},
   "outputs": [
    {
     "name": "stdout",
     "output_type": "stream",
     "text": [
      "MuJoCo:[3.1.1]\n"
     ]
    }
   ],
   "source": [
    "import sys,mujoco\n",
    "sys.path.append('../package/helper/')\n",
    "sys.path.append('../package/mujoco_usage/')\n",
    "from mujoco_parser import *\n",
    "from utility import *\n",
    "print (\"MuJoCo:[%s]\"%(mujoco.__version__))"
   ]
  },
  {
   "cell_type": "markdown",
   "id": "b90ddae9-19cb-46e9-b75a-f0c2485523c5",
   "metadata": {},
   "source": [
    "#### Parse environment"
   ]
  },
  {
   "cell_type": "code",
   "execution_count": 2,
   "id": "90091ebb-9ca2-4535-8a65-981accdde612",
   "metadata": {
    "scrolled": true
   },
   "outputs": [
    {
     "name": "stdout",
     "output_type": "stream",
     "text": [
      "name:[Floor] dt:[0.002] HZ:[500]\n",
      "n_qpos:[0] n_qvel:[0] n_qacc:[0] n_ctrl:[0]\n",
      "\n",
      "n_body:[1]\n",
      " [0/1] [world] mass:[0.00]kg\n",
      "body_total_mass:[0.00]kg\n",
      "\n",
      "n_geom:[1]\n",
      "geom_names:['floor']\n",
      "\n",
      "n_joint:[0]\n",
      "\n",
      "n_dof:[0] (=number of rows of Jacobian)\n",
      "\n",
      "Free joint information. n_free_joint:[0]\n",
      "\n",
      "Revolute joint information. n_rev_joint:[0]\n",
      "\n",
      "Prismatic joint information. n_pri_joint:[0]\n",
      "\n",
      "Control information. n_ctrl:[0]\n",
      "\n",
      "n_sensor:[0]\n",
      "sensor_names:[]\n",
      "n_site:[0]\n",
      "site_names:[]\n"
     ]
    }
   ],
   "source": [
    "xml_path = '../asset/object/floor_isaac_style.xml'\n",
    "env = MuJoCoParserClass(name='Floor',rel_xml_path=xml_path,verbose=True)"
   ]
  },
  {
   "cell_type": "markdown",
   "id": "a4fe5d37-2d6a-4bd3-9764-b18e9621b2c3",
   "metadata": {},
   "source": [
    "#### Render `floor`"
   ]
  },
  {
   "cell_type": "code",
   "execution_count": 3,
   "id": "411e3ea6-3eb7-4d84-a529-253412128471",
   "metadata": {},
   "outputs": [
    {
     "name": "stdout",
     "output_type": "stream",
     "text": [
      "Done.\n"
     ]
    }
   ],
   "source": [
    "env.reset(step=True)\n",
    "env.init_viewer()\n",
    "while env.is_viewer_alive():\n",
    "    env.step()\n",
    "    env.render()\n",
    "print (\"Done.\")"
   ]
  },
  {
   "cell_type": "markdown",
   "id": "5b55bb63-c69a-45c1-9e38-69faf336ec07",
   "metadata": {},
   "source": [
    "#### Render with other plot functions"
   ]
  },
  {
   "cell_type": "code",
   "execution_count": 4,
   "id": "1378e940-dc42-4edd-a4a4-8ce4f9b93f9a",
   "metadata": {},
   "outputs": [
    {
     "name": "stdout",
     "output_type": "stream",
     "text": [
      "Done.\n"
     ]
    }
   ],
   "source": [
    "env.reset(step=True)\n",
    "env.init_viewer()\n",
    "while env.is_viewer_alive():\n",
    "    env.step()\n",
    "    # Render\n",
    "    env.plot_T(print_xyz=True)\n",
    "    env.plot_time()\n",
    "    env.plot_ellipsoid(p=np.array([0,-2.0,1.0]),rx=0.1,ry=0.2,rz=0.3,rgba=(1,0,1,0.5))\n",
    "    env.plot_cylinder(p=np.array([0,-1.0,1.0]),r=0.1,h=0.2,rgba=(1,1,0,0.5))\n",
    "    env.plot_T(p=np.array([0,0,1.0]),axis_len=0.2,axis_width=0.01)\n",
    "    env.plot_arrow(p=np.array([0,1.0,1.0]),R=np.eye(3),r=0.1,h=0.5,rgba=(1,0,0,0.5))\n",
    "    env.plot_box(p=np.array([0,2.0,1.0]),R=np.eye(3),xlen=0.2,ylen=0.2,zlen=0.1,rgba=(0,1,0,0.5))\n",
    "    env.plot_capsule(p=np.array([0,3.0,1.0]),R=np.eye(3),r=0.1,h=0.1,rgba=(0,0,1,0.5))\n",
    "    env.render()\n",
    "print (\"Done.\")"
   ]
  },
  {
   "cell_type": "markdown",
   "id": "6d9c8b94-c134-4302-815e-72e547776225",
   "metadata": {},
   "source": [
    "#### Parse `Unitree G1`"
   ]
  },
  {
   "cell_type": "code",
   "execution_count": 5,
   "id": "54dc2b90-c199-4062-b6ac-441e21235f26",
   "metadata": {
    "scrolled": true
   },
   "outputs": [
    {
     "name": "stdout",
     "output_type": "stream",
     "text": [
      "name:[Unitree G1] dt:[0.002] HZ:[500]\n",
      "n_qpos:[44] n_qvel:[43] n_qacc:[43] n_ctrl:[37]\n",
      "\n",
      "n_body:[39]\n",
      " [0/39] [world] mass:[0.00]kg\n",
      " [1/39] [pelvis] mass:[2.86]kg\n",
      " [2/39] [left_hip_pitch_link] mass:[1.30]kg\n",
      " [3/39] [left_hip_roll_link] mass:[1.45]kg\n",
      " [4/39] [left_hip_yaw_link] mass:[2.05]kg\n",
      " [5/39] [left_knee_link] mass:[2.25]kg\n",
      " [6/39] [left_ankle_pitch_link] mass:[0.07]kg\n",
      " [7/39] [left_ankle_roll_link] mass:[0.39]kg\n",
      " [8/39] [right_hip_pitch_link] mass:[1.30]kg\n",
      " [9/39] [right_hip_roll_link] mass:[1.45]kg\n",
      " [10/39] [right_hip_yaw_link] mass:[2.05]kg\n",
      " [11/39] [right_knee_link] mass:[2.25]kg\n",
      " [12/39] [right_ankle_pitch_link] mass:[0.07]kg\n",
      " [13/39] [right_ankle_roll_link] mass:[0.39]kg\n",
      " [14/39] [torso_link] mass:[7.52]kg\n",
      " [15/39] [left_shoulder_pitch_link] mass:[0.71]kg\n",
      " [16/39] [left_shoulder_roll_link] mass:[0.64]kg\n",
      " [17/39] [left_shoulder_yaw_link] mass:[0.71]kg\n",
      " [18/39] [left_elbow_pitch_link] mass:[0.60]kg\n",
      " [19/39] [left_elbow_roll_link] mass:[0.51]kg\n",
      " [20/39] [left_zero_link] mass:[0.05]kg\n",
      " [21/39] [left_one_link] mass:[0.05]kg\n",
      " [22/39] [left_two_link] mass:[0.01]kg\n",
      " [23/39] [left_three_link] mass:[0.05]kg\n",
      " [24/39] [left_four_link] mass:[0.01]kg\n",
      " [25/39] [left_five_link] mass:[0.05]kg\n",
      " [26/39] [left_six_link] mass:[0.01]kg\n",
      " [27/39] [right_shoulder_pitch_link] mass:[0.71]kg\n",
      " [28/39] [right_shoulder_roll_link] mass:[0.64]kg\n",
      " [29/39] [right_shoulder_yaw_link] mass:[0.71]kg\n",
      " [30/39] [right_elbow_pitch_link] mass:[0.60]kg\n",
      " [31/39] [right_elbow_roll_link] mass:[0.51]kg\n",
      " [32/39] [right_zero_link] mass:[0.05]kg\n",
      " [33/39] [right_one_link] mass:[0.05]kg\n",
      " [34/39] [right_two_link] mass:[0.01]kg\n",
      " [35/39] [right_three_link] mass:[0.05]kg\n",
      " [36/39] [right_four_link] mass:[0.01]kg\n",
      " [37/39] [right_five_link] mass:[0.05]kg\n",
      " [38/39] [right_six_link] mass:[0.01]kg\n",
      "body_total_mass:[32.24]kg\n",
      "\n",
      "n_geom:[90]\n",
      "geom_names:['floor', None, None, None, None, None, None, None, None, None, None, None, None, None, None, None, None, None, None, None, None, None, None, None, None, None, None, None, None, None, None, None, None, None, None, None, None, None, None, None, None, None, None, None, None, None, None, None, None, None, None, None, None, None, None, None, None, None, None, None, None, None, None, None, None, None, None, None, None, None, None, None, None, None, None, None, None, None, None, None, None, None, None, None, None, None, None, None, None, None]\n",
      "\n",
      "n_joint:[38]\n",
      " [0/38] [floating_base_joint] axis:[0. 0. 1.]\n",
      " [1/38] [left_hip_pitch_joint] axis:[0. 1. 0.]\n",
      " [2/38] [left_hip_roll_joint] axis:[1. 0. 0.]\n",
      " [3/38] [left_hip_yaw_joint] axis:[0. 0. 1.]\n",
      " [4/38] [left_knee_joint] axis:[0. 1. 0.]\n",
      " [5/38] [left_ankle_pitch_joint] axis:[0. 1. 0.]\n",
      " [6/38] [left_ankle_roll_joint] axis:[1. 0. 0.]\n",
      " [7/38] [right_hip_pitch_joint] axis:[0. 1. 0.]\n",
      " [8/38] [right_hip_roll_joint] axis:[1. 0. 0.]\n",
      " [9/38] [right_hip_yaw_joint] axis:[0. 0. 1.]\n",
      " [10/38] [right_knee_joint] axis:[0. 1. 0.]\n",
      " [11/38] [right_ankle_pitch_joint] axis:[0. 1. 0.]\n",
      " [12/38] [right_ankle_roll_joint] axis:[1. 0. 0.]\n",
      " [13/38] [torso_joint] axis:[0. 0. 1.]\n",
      " [14/38] [left_shoulder_pitch_joint] axis:[0. 1. 0.]\n",
      " [15/38] [left_shoulder_roll_joint] axis:[1. 0. 0.]\n",
      " [16/38] [left_shoulder_yaw_joint] axis:[0. 0. 1.]\n",
      " [17/38] [left_elbow_pitch_joint] axis:[0. 1. 0.]\n",
      " [18/38] [left_elbow_roll_joint] axis:[1. 0. 0.]\n",
      " [19/38] [left_zero_joint] axis:[0. 1. 0.]\n",
      " [20/38] [left_one_joint] axis:[0. 0. 1.]\n",
      " [21/38] [left_two_joint] axis:[0. 0. 1.]\n",
      " [22/38] [left_three_joint] axis:[0. 0. 1.]\n",
      " [23/38] [left_four_joint] axis:[0. 0. 1.]\n",
      " [24/38] [left_five_joint] axis:[0. 0. 1.]\n",
      " [25/38] [left_six_joint] axis:[0. 0. 1.]\n",
      " [26/38] [right_shoulder_pitch_joint] axis:[0. 1. 0.]\n",
      " [27/38] [right_shoulder_roll_joint] axis:[1. 0. 0.]\n",
      " [28/38] [right_shoulder_yaw_joint] axis:[0. 0. 1.]\n",
      " [29/38] [right_elbow_pitch_joint] axis:[0. 1. 0.]\n",
      " [30/38] [right_elbow_roll_joint] axis:[1. 0. 0.]\n",
      " [31/38] [right_zero_joint] axis:[0. 1. 0.]\n",
      " [32/38] [right_one_joint] axis:[0. 0. 1.]\n",
      " [33/38] [right_two_joint] axis:[0. 0. 1.]\n",
      " [34/38] [right_three_joint] axis:[0. 0. 1.]\n",
      " [35/38] [right_four_joint] axis:[0. 0. 1.]\n",
      " [36/38] [right_five_joint] axis:[0. 0. 1.]\n",
      " [37/38] [right_six_joint] axis:[0. 0. 1.]\n",
      "\n",
      "n_dof:[43] (=number of rows of Jacobian)\n",
      " [0/43] [None] attached joint:[floating_base_joint] body:[pelvis]\n",
      " [1/43] [None] attached joint:[floating_base_joint] body:[pelvis]\n",
      " [2/43] [None] attached joint:[floating_base_joint] body:[pelvis]\n",
      " [3/43] [None] attached joint:[floating_base_joint] body:[pelvis]\n",
      " [4/43] [None] attached joint:[floating_base_joint] body:[pelvis]\n",
      " [5/43] [None] attached joint:[floating_base_joint] body:[pelvis]\n",
      " [6/43] [None] attached joint:[left_hip_pitch_joint] body:[left_hip_pitch_link]\n",
      " [7/43] [None] attached joint:[left_hip_roll_joint] body:[left_hip_roll_link]\n",
      " [8/43] [None] attached joint:[left_hip_yaw_joint] body:[left_hip_yaw_link]\n",
      " [9/43] [None] attached joint:[left_knee_joint] body:[left_knee_link]\n",
      " [10/43] [None] attached joint:[left_ankle_pitch_joint] body:[left_ankle_pitch_link]\n",
      " [11/43] [None] attached joint:[left_ankle_roll_joint] body:[left_ankle_roll_link]\n",
      " [12/43] [None] attached joint:[right_hip_pitch_joint] body:[right_hip_pitch_link]\n",
      " [13/43] [None] attached joint:[right_hip_roll_joint] body:[right_hip_roll_link]\n",
      " [14/43] [None] attached joint:[right_hip_yaw_joint] body:[right_hip_yaw_link]\n",
      " [15/43] [None] attached joint:[right_knee_joint] body:[right_knee_link]\n",
      " [16/43] [None] attached joint:[right_ankle_pitch_joint] body:[right_ankle_pitch_link]\n",
      " [17/43] [None] attached joint:[right_ankle_roll_joint] body:[right_ankle_roll_link]\n",
      " [18/43] [None] attached joint:[torso_joint] body:[torso_link]\n",
      " [19/43] [None] attached joint:[left_shoulder_pitch_joint] body:[left_shoulder_pitch_link]\n",
      " [20/43] [None] attached joint:[left_shoulder_roll_joint] body:[left_shoulder_roll_link]\n",
      " [21/43] [None] attached joint:[left_shoulder_yaw_joint] body:[left_shoulder_yaw_link]\n",
      " [22/43] [None] attached joint:[left_elbow_pitch_joint] body:[left_elbow_pitch_link]\n",
      " [23/43] [None] attached joint:[left_elbow_roll_joint] body:[left_elbow_roll_link]\n",
      " [24/43] [None] attached joint:[left_zero_joint] body:[left_zero_link]\n",
      " [25/43] [None] attached joint:[left_one_joint] body:[left_one_link]\n",
      " [26/43] [None] attached joint:[left_two_joint] body:[left_two_link]\n",
      " [27/43] [None] attached joint:[left_three_joint] body:[left_three_link]\n",
      " [28/43] [None] attached joint:[left_four_joint] body:[left_four_link]\n",
      " [29/43] [None] attached joint:[left_five_joint] body:[left_five_link]\n",
      " [30/43] [None] attached joint:[left_six_joint] body:[left_six_link]\n",
      " [31/43] [None] attached joint:[right_shoulder_pitch_joint] body:[right_shoulder_pitch_link]\n",
      " [32/43] [None] attached joint:[right_shoulder_roll_joint] body:[right_shoulder_roll_link]\n",
      " [33/43] [None] attached joint:[right_shoulder_yaw_joint] body:[right_shoulder_yaw_link]\n",
      " [34/43] [None] attached joint:[right_elbow_pitch_joint] body:[right_elbow_pitch_link]\n",
      " [35/43] [None] attached joint:[right_elbow_roll_joint] body:[right_elbow_roll_link]\n",
      " [36/43] [None] attached joint:[right_zero_joint] body:[right_zero_link]\n",
      " [37/43] [None] attached joint:[right_one_joint] body:[right_one_link]\n",
      " [38/43] [None] attached joint:[right_two_joint] body:[right_two_link]\n",
      " [39/43] [None] attached joint:[right_three_joint] body:[right_three_link]\n",
      " [40/43] [None] attached joint:[right_four_joint] body:[right_four_link]\n",
      " [41/43] [None] attached joint:[right_five_joint] body:[right_five_link]\n",
      " [42/43] [None] attached joint:[right_six_joint] body:[right_six_link]\n",
      "\n",
      "Free joint information. n_free_joint:[1]\n",
      " [0/1] [floating_base_joint] body_name_attached:[pelvis]\n",
      "\n",
      "Revolute joint information. n_rev_joint:[37]\n",
      " [0/37] [left_hip_pitch_joint] range:[-2.350]~[3.050]\n",
      " [1/37] [left_hip_roll_joint] range:[-0.260]~[2.530]\n",
      " [2/37] [left_hip_yaw_joint] range:[-2.750]~[2.750]\n",
      " [3/37] [left_knee_joint] range:[-0.335]~[2.545]\n",
      " [4/37] [left_ankle_pitch_joint] range:[-0.680]~[0.730]\n",
      " [5/37] [left_ankle_roll_joint] range:[-0.262]~[0.262]\n",
      " [6/37] [right_hip_pitch_joint] range:[-2.350]~[3.050]\n",
      " [7/37] [right_hip_roll_joint] range:[-2.530]~[0.260]\n",
      " [8/37] [right_hip_yaw_joint] range:[-2.750]~[2.750]\n",
      " [9/37] [right_knee_joint] range:[-0.335]~[2.545]\n",
      " [10/37] [right_ankle_pitch_joint] range:[-0.680]~[0.730]\n",
      " [11/37] [right_ankle_roll_joint] range:[-0.262]~[0.262]\n",
      " [12/37] [torso_joint] range:[-2.618]~[2.618]\n",
      " [13/37] [left_shoulder_pitch_joint] range:[-2.967]~[2.792]\n",
      " [14/37] [left_shoulder_roll_joint] range:[-1.588]~[2.252]\n",
      " [15/37] [left_shoulder_yaw_joint] range:[-2.618]~[2.618]\n",
      " [16/37] [left_elbow_pitch_joint] range:[-0.227]~[3.421]\n",
      " [17/37] [left_elbow_roll_joint] range:[-2.094]~[2.094]\n",
      " [18/37] [left_zero_joint] range:[-0.524]~[0.524]\n",
      " [19/37] [left_one_joint] range:[-1.000]~[1.200]\n",
      " [20/37] [left_two_joint] range:[0.000]~[1.840]\n",
      " [21/37] [left_three_joint] range:[-1.840]~[0.300]\n",
      " [22/37] [left_four_joint] range:[-1.840]~[0.000]\n",
      " [23/37] [left_five_joint] range:[-1.840]~[0.300]\n",
      " [24/37] [left_six_joint] range:[-1.840]~[0.000]\n",
      " [25/37] [right_shoulder_pitch_joint] range:[-2.967]~[2.792]\n",
      " [26/37] [right_shoulder_roll_joint] range:[-2.252]~[1.588]\n",
      " [27/37] [right_shoulder_yaw_joint] range:[-2.618]~[2.618]\n",
      " [28/37] [right_elbow_pitch_joint] range:[-0.227]~[3.421]\n",
      " [29/37] [right_elbow_roll_joint] range:[-2.094]~[2.094]\n",
      " [30/37] [right_zero_joint] range:[-0.524]~[0.524]\n",
      " [31/37] [right_one_joint] range:[-1.200]~[1.000]\n",
      " [32/37] [right_two_joint] range:[-1.840]~[0.000]\n",
      " [33/37] [right_three_joint] range:[-0.300]~[1.840]\n",
      " [34/37] [right_four_joint] range:[0.000]~[1.840]\n",
      " [35/37] [right_five_joint] range:[-0.300]~[1.840]\n",
      " [36/37] [right_six_joint] range:[0.000]~[1.840]\n",
      "\n",
      "Prismatic joint information. n_pri_joint:[0]\n",
      "\n",
      "Control information. n_ctrl:[37]\n",
      " [0/37] [left_hip_pitch_joint] range:[-88.000]~[88.000] gear:[1.00] type:[JOINT]\n",
      " [1/37] [left_hip_roll_joint] range:[-88.000]~[88.000] gear:[1.00] type:[JOINT]\n",
      " [2/37] [left_hip_yaw_joint] range:[-88.000]~[88.000] gear:[1.00] type:[JOINT]\n",
      " [3/37] [left_knee_joint] range:[-139.000]~[139.000] gear:[1.00] type:[JOINT]\n",
      " [4/37] [left_ankle_pitch_joint] range:[-40.000]~[40.000] gear:[1.00] type:[JOINT]\n",
      " [5/37] [left_ankle_roll_joint] range:[-40.000]~[40.000] gear:[1.00] type:[JOINT]\n",
      " [6/37] [right_hip_pitch_joint] range:[-88.000]~[88.000] gear:[1.00] type:[JOINT]\n",
      " [7/37] [right_hip_roll_joint] range:[-88.000]~[88.000] gear:[1.00] type:[JOINT]\n",
      " [8/37] [right_hip_yaw_joint] range:[-88.000]~[88.000] gear:[1.00] type:[JOINT]\n",
      " [9/37] [right_knee_joint] range:[-139.000]~[139.000] gear:[1.00] type:[JOINT]\n",
      " [10/37] [right_ankle_pitch_joint] range:[-40.000]~[40.000] gear:[1.00] type:[JOINT]\n",
      " [11/37] [right_ankle_roll_joint] range:[-40.000]~[40.000] gear:[1.00] type:[JOINT]\n",
      " [12/37] [torso_joint] range:[-88.000]~[88.000] gear:[1.00] type:[JOINT]\n",
      " [13/37] [left_shoulder_pitch_joint] range:[-20.000]~[20.000] gear:[1.00] type:[JOINT]\n",
      " [14/37] [left_shoulder_roll_joint] range:[-20.000]~[20.000] gear:[1.00] type:[JOINT]\n",
      " [15/37] [left_shoulder_yaw_joint] range:[-20.000]~[20.000] gear:[1.00] type:[JOINT]\n",
      " [16/37] [left_elbow_pitch_joint] range:[-20.000]~[20.000] gear:[1.00] type:[JOINT]\n",
      " [17/37] [left_elbow_roll_joint] range:[-20.000]~[20.000] gear:[1.00] type:[JOINT]\n",
      " [18/37] [right_shoulder_pitch_joint] range:[-20.000]~[20.000] gear:[1.00] type:[JOINT]\n",
      " [19/37] [right_shoulder_roll_joint] range:[-20.000]~[20.000] gear:[1.00] type:[JOINT]\n",
      " [20/37] [right_shoulder_yaw_joint] range:[-20.000]~[20.000] gear:[1.00] type:[JOINT]\n",
      " [21/37] [right_elbow_pitch_joint] range:[-20.000]~[20.000] gear:[1.00] type:[JOINT]\n",
      " [22/37] [right_elbow_roll_joint] range:[-20.000]~[20.000] gear:[1.00] type:[JOINT]\n",
      " [23/37] [left_zero_joint] range:[-0.700]~[0.700] gear:[1.00] type:[JOINT]\n",
      " [24/37] [left_one_joint] range:[-0.700]~[0.700] gear:[1.00] type:[JOINT]\n",
      " [25/37] [left_two_joint] range:[-0.700]~[0.700] gear:[1.00] type:[JOINT]\n",
      " [26/37] [left_three_joint] range:[-0.700]~[0.700] gear:[1.00] type:[JOINT]\n",
      " [27/37] [left_four_joint] range:[-0.700]~[0.700] gear:[1.00] type:[JOINT]\n",
      " [28/37] [left_five_joint] range:[-0.700]~[0.700] gear:[1.00] type:[JOINT]\n",
      " [29/37] [left_six_joint] range:[-0.700]~[0.700] gear:[1.00] type:[JOINT]\n",
      " [30/37] [right_zero_joint] range:[-0.700]~[0.700] gear:[1.00] type:[JOINT]\n",
      " [31/37] [right_one_joint] range:[-0.700]~[0.700] gear:[1.00] type:[JOINT]\n",
      " [32/37] [right_two_joint] range:[-0.700]~[0.700] gear:[1.00] type:[JOINT]\n",
      " [33/37] [right_three_joint] range:[-0.700]~[0.700] gear:[1.00] type:[JOINT]\n",
      " [34/37] [right_four_joint] range:[-0.700]~[0.700] gear:[1.00] type:[JOINT]\n",
      " [35/37] [right_five_joint] range:[-0.700]~[0.700] gear:[1.00] type:[JOINT]\n",
      " [36/37] [right_six_joint] range:[-0.700]~[0.700] gear:[1.00] type:[JOINT]\n",
      "\n",
      "n_sensor:[3]\n",
      "sensor_names:['imu-angular-velocity', 'imu-linear-acceleration', 'imu-body-quat']\n",
      "n_site:[4]\n",
      "site_names:['left_foot', 'right_foot', 'imu', 'head']\n"
     ]
    }
   ],
   "source": [
    "xml_path = '../asset/unitree_g1/scene_g1.xml'\n",
    "env = MuJoCoParserClass(name='Unitree G1',rel_xml_path=xml_path,verbose=True)"
   ]
  },
  {
   "cell_type": "markdown",
   "id": "eca1733e-082e-414d-8d52-0c269a7803f7",
   "metadata": {},
   "source": [
    "#### Render `G1`"
   ]
  },
  {
   "cell_type": "code",
   "execution_count": 6,
   "id": "e3603a95-0457-4eb4-8148-f5058aa9d28e",
   "metadata": {},
   "outputs": [
    {
     "name": "stderr",
     "output_type": "stream",
     "text": [
      "2025-06-03 16:56:39.575 python[46833:7774884] TSM AdjustCapsLockLEDForKeyTransitionHandling - _ISSetPhysicalKeyboardCapsLockLED Inhibit\n"
     ]
    },
    {
     "name": "stdout",
     "output_type": "stream",
     "text": [
      "Done.\n"
     ]
    }
   ],
   "source": [
    "env.reset(step=True)\n",
    "env.init_viewer()\n",
    "while env.is_viewer_alive():\n",
    "    env.step()\n",
    "    env.render()\n",
    "print (\"Done.\")"
   ]
  },
  {
   "cell_type": "markdown",
   "id": "d2452152-03ac-4827-baae-fbeaf275485a",
   "metadata": {},
   "source": [
    "#### Render `G1` with other information (contact, joint axis, etc..)"
   ]
  },
  {
   "cell_type": "code",
   "execution_count": 7,
   "id": "3ef33cba-edde-45a0-a481-95a07b295ae4",
   "metadata": {},
   "outputs": [
    {
     "name": "stdout",
     "output_type": "stream",
     "text": [
      "Done.\n"
     ]
    }
   ],
   "source": [
    "env.reset(step=True)\n",
    "env.init_viewer(transparent=True)\n",
    "while env.is_viewer_alive():\n",
    "    env.step()\n",
    "    if env.loop_every(tick_every=10):\n",
    "        env.plot_T()\n",
    "        env.plot_time() # time\n",
    "        env.plot_contact_info() # contact information\n",
    "        env.plot_joint_axis(axis_len=0.025,axis_r=0.005) # revolute joints\n",
    "        env.plot_links_between_bodies(rgba=(0,0,0,1),r=0.001) # link information\n",
    "        env.render()\n",
    "print (\"Done.\")"
   ]
  },
  {
   "cell_type": "markdown",
   "id": "6a835845-f66a-4bb1-bd23-490842749957",
   "metadata": {},
   "source": [
    "#### Render `Google Scanned Objects`"
   ]
  },
  {
   "cell_type": "code",
   "execution_count": 8,
   "id": "ccea3aac-12e9-4420-8a04-37b43bd75f17",
   "metadata": {
    "scrolled": true
   },
   "outputs": [
    {
     "name": "stdout",
     "output_type": "stream",
     "text": [
      "name:[Scanned Objects] dt:[0.002] HZ:[500]\n",
      "n_qpos:[49] n_qvel:[42] n_qacc:[42] n_ctrl:[0]\n",
      "\n",
      "n_body:[9]\n",
      " [0/9] [world] mass:[0.00]kg\n",
      " [1/9] [base_table] mass:[1.00]kg\n",
      " [2/9] [model_3D_Dollhouse_Sink] mass:[1.20]kg\n",
      " [3/9] [model_3D_Dollhouse_Sofa] mass:[1.81]kg\n",
      " [4/9] [model_3D_Dollhouse_Swing] mass:[0.53]kg\n",
      " [5/9] [model_3D_Dollhouse_TablePurple] mass:[0.21]kg\n",
      " [6/9] [Android_Figure_Chrome] mass:[0.22]kg\n",
      " [7/9] [Android_Figure_Orange] mass:[0.22]kg\n",
      " [8/9] [Android_Figure_Panda] mass:[0.22]kg\n",
      "body_total_mass:[5.42]kg\n",
      "\n",
      "n_geom:[233]\n",
      "geom_names:['floor', 'base_table', None, None, None, None, None, None, None, None, None, None, None, None, None, None, None, None, None, None, None, None, None, None, None, None, None, None, None, None, None, None, None, None, None, None, None, None, None, None, None, None, None, None, None, None, None, None, None, None, None, None, None, None, None, None, None, None, None, None, None, None, None, None, None, None, None, None, None, None, None, None, None, None, None, None, None, None, None, None, None, None, None, None, None, None, None, None, None, None, None, None, None, None, None, None, None, None, None, None, None, None, None, None, None, None, None, None, None, None, None, None, None, None, None, None, None, None, None, None, None, None, None, None, None, None, None, None, None, None, None, None, None, None, None, None, None, None, None, None, None, None, None, None, None, None, None, None, None, None, None, None, None, None, None, None, None, None, None, None, None, None, None, None, None, None, None, None, None, None, None, None, None, None, None, None, None, None, None, None, None, None, None, None, None, None, None, None, None, None, None, None, None, None, None, None, None, None, None, None, None, None, None, None, None, None, None, None, None, None, None, None, None, None, None, None, None, None, None, None, None, None, None, None, None, None, None, None, None, None, None, None, None]\n",
      "\n",
      "n_joint:[7]\n",
      " [0/7] [None] axis:[0. 0. 1.]\n",
      " [1/7] [None] axis:[0. 0. 1.]\n",
      " [2/7] [None] axis:[0. 0. 1.]\n",
      " [3/7] [None] axis:[0. 0. 1.]\n",
      " [4/7] [None] axis:[0. 0. 1.]\n",
      " [5/7] [None] axis:[0. 0. 1.]\n",
      " [6/7] [None] axis:[0. 0. 1.]\n",
      "\n",
      "n_dof:[42] (=number of rows of Jacobian)\n",
      " [0/42] [None] attached joint:[None] body:[model_3D_Dollhouse_Sink]\n",
      " [1/42] [None] attached joint:[None] body:[model_3D_Dollhouse_Sink]\n",
      " [2/42] [None] attached joint:[None] body:[model_3D_Dollhouse_Sink]\n",
      " [3/42] [None] attached joint:[None] body:[model_3D_Dollhouse_Sink]\n",
      " [4/42] [None] attached joint:[None] body:[model_3D_Dollhouse_Sink]\n",
      " [5/42] [None] attached joint:[None] body:[model_3D_Dollhouse_Sink]\n",
      " [6/42] [None] attached joint:[None] body:[model_3D_Dollhouse_Sofa]\n",
      " [7/42] [None] attached joint:[None] body:[model_3D_Dollhouse_Sofa]\n",
      " [8/42] [None] attached joint:[None] body:[model_3D_Dollhouse_Sofa]\n",
      " [9/42] [None] attached joint:[None] body:[model_3D_Dollhouse_Sofa]\n",
      " [10/42] [None] attached joint:[None] body:[model_3D_Dollhouse_Sofa]\n",
      " [11/42] [None] attached joint:[None] body:[model_3D_Dollhouse_Sofa]\n",
      " [12/42] [None] attached joint:[None] body:[model_3D_Dollhouse_Swing]\n",
      " [13/42] [None] attached joint:[None] body:[model_3D_Dollhouse_Swing]\n",
      " [14/42] [None] attached joint:[None] body:[model_3D_Dollhouse_Swing]\n",
      " [15/42] [None] attached joint:[None] body:[model_3D_Dollhouse_Swing]\n",
      " [16/42] [None] attached joint:[None] body:[model_3D_Dollhouse_Swing]\n",
      " [17/42] [None] attached joint:[None] body:[model_3D_Dollhouse_Swing]\n",
      " [18/42] [None] attached joint:[None] body:[model_3D_Dollhouse_TablePurple]\n",
      " [19/42] [None] attached joint:[None] body:[model_3D_Dollhouse_TablePurple]\n",
      " [20/42] [None] attached joint:[None] body:[model_3D_Dollhouse_TablePurple]\n",
      " [21/42] [None] attached joint:[None] body:[model_3D_Dollhouse_TablePurple]\n",
      " [22/42] [None] attached joint:[None] body:[model_3D_Dollhouse_TablePurple]\n",
      " [23/42] [None] attached joint:[None] body:[model_3D_Dollhouse_TablePurple]\n",
      " [24/42] [None] attached joint:[None] body:[Android_Figure_Chrome]\n",
      " [25/42] [None] attached joint:[None] body:[Android_Figure_Chrome]\n",
      " [26/42] [None] attached joint:[None] body:[Android_Figure_Chrome]\n",
      " [27/42] [None] attached joint:[None] body:[Android_Figure_Chrome]\n",
      " [28/42] [None] attached joint:[None] body:[Android_Figure_Chrome]\n",
      " [29/42] [None] attached joint:[None] body:[Android_Figure_Chrome]\n",
      " [30/42] [None] attached joint:[None] body:[Android_Figure_Orange]\n",
      " [31/42] [None] attached joint:[None] body:[Android_Figure_Orange]\n",
      " [32/42] [None] attached joint:[None] body:[Android_Figure_Orange]\n",
      " [33/42] [None] attached joint:[None] body:[Android_Figure_Orange]\n",
      " [34/42] [None] attached joint:[None] body:[Android_Figure_Orange]\n",
      " [35/42] [None] attached joint:[None] body:[Android_Figure_Orange]\n",
      " [36/42] [None] attached joint:[None] body:[Android_Figure_Panda]\n",
      " [37/42] [None] attached joint:[None] body:[Android_Figure_Panda]\n",
      " [38/42] [None] attached joint:[None] body:[Android_Figure_Panda]\n",
      " [39/42] [None] attached joint:[None] body:[Android_Figure_Panda]\n",
      " [40/42] [None] attached joint:[None] body:[Android_Figure_Panda]\n",
      " [41/42] [None] attached joint:[None] body:[Android_Figure_Panda]\n",
      "\n",
      "Free joint information. n_free_joint:[7]\n",
      " [0/7] [None] body_name_attached:[model_3D_Dollhouse_Sink]\n",
      " [1/7] [None] body_name_attached:[model_3D_Dollhouse_Sofa]\n",
      " [2/7] [None] body_name_attached:[model_3D_Dollhouse_Swing]\n",
      " [3/7] [None] body_name_attached:[model_3D_Dollhouse_TablePurple]\n",
      " [4/7] [None] body_name_attached:[Android_Figure_Chrome]\n",
      " [5/7] [None] body_name_attached:[Android_Figure_Orange]\n",
      " [6/7] [None] body_name_attached:[Android_Figure_Panda]\n",
      "\n",
      "Revolute joint information. n_rev_joint:[0]\n",
      "\n",
      "Prismatic joint information. n_pri_joint:[0]\n",
      "\n",
      "Control information. n_ctrl:[0]\n",
      "\n",
      "n_sensor:[0]\n",
      "sensor_names:[]\n",
      "n_site:[0]\n",
      "site_names:[]\n",
      "WARNING: Insufficient arena memory for the number of constraints generated. Increase arena memory allocation above 15M bytes. Time = 0.0000.\n",
      "\n"
     ]
    }
   ],
   "source": [
    "xml_path = '../asset/scanned_objects/scene_objects.xml'\n",
    "env = MuJoCoParserClass(name='Scanned Objects',rel_xml_path=xml_path,verbose=True)"
   ]
  },
  {
   "cell_type": "code",
   "execution_count": null,
   "id": "e0791c8d-81f5-42f4-b4cc-6f6567504b06",
   "metadata": {},
   "outputs": [
    {
     "name": "stdout",
     "output_type": "stream",
     "text": [
      "WARNING: Insufficient arena memory for the number of constraints generated. Increase arena memory allocation above 15M bytes. Time = 0.0000.\n",
      "\n",
      "Done.\n"
     ]
    },
    {
     "ename": "",
     "evalue": "",
     "output_type": "error",
     "traceback": [
      "\u001b[1;31m현재 셀 또는 이전 셀에서 코드를 실행하는 동안 Kernel이 충돌했습니다. \n",
      "\u001b[1;31m셀의 코드를 검토하여 가능한 오류 원인을 식별하세요. \n",
      "\u001b[1;31m자세한 내용을 보려면 <a href='https://aka.ms/vscodeJupyterKernelCrash'>여기</a>를 클릭하세요. \n",
      "\u001b[1;31m자세한 내용은 Jupyter <a href='command:jupyter.viewOutput'>로그</a>를 참조하세요."
     ]
    }
   ],
   "source": [
    "env.reset(step=True)\n",
    "# Set object positions\n",
    "obj_names = env.get_body_names(excluding='world') # object names\n",
    "n_obj = len(obj_names)\n",
    "obj_xyzs = sample_xyzs(\n",
    "    n_obj,\n",
    "    x_range   = [-0.45,+0.45],\n",
    "    y_range   = [-0.45,+0.45],\n",
    "    z_range   = [0.51,0.51],\n",
    "    min_dist  = 0.2,\n",
    "    xy_margin = 0.0\n",
    ")\n",
    "for obj_idx in range(n_obj):\n",
    "    env.set_p_base_body(body_name=obj_names[obj_idx],p=obj_xyzs[obj_idx,:])\n",
    "    env.set_R_base_body(body_name=obj_names[obj_idx],R=np.eye(3,3))\n",
    "# Loop\n",
    "env.init_viewer(transparent=False)\n",
    "while env.is_viewer_alive():\n",
    "    env.step()\n",
    "    if env.loop_every(tick_every=10):\n",
    "        env.plot_T()\n",
    "        env.plot_time() # time\n",
    "        env.plot_contact_info() # contact information\n",
    "        env.render()\n",
    "print (\"Done.\")"
   ]
  }
 ],
 "metadata": {
  "kernelspec": {
   "display_name": "snapbot-env",
   "language": "python",
   "name": "python3"
  },
  "language_info": {
   "codemirror_mode": {
    "name": "ipython",
    "version": 3
   },
   "file_extension": ".py",
   "mimetype": "text/x-python",
   "name": "python",
   "nbconvert_exporter": "python",
   "pygments_lexer": "ipython3",
   "version": "3.10.16"
  }
 },
 "nbformat": 4,
 "nbformat_minor": 5
}

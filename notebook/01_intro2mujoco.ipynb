{
 "cells": [
  {
   "cell_type": "markdown",
   "id": "ddd5809e-9b50-43f5-960e-dae741e16168",
   "metadata": {},
   "source": [
    "### Introduction to `MuJoCo`\n",
    "```\n",
    "MuJoCo is a free and open source physics engine that aims to facilitate research and development in robotics, biomechanics, graphics and animation, and other areas where fast and accurate simulation is needed.\n",
    "```\n",
    "- `MuJoCo` stands for `Mu`lti-`Jo`int dynamics with `Co`ntact\n",
    "- It is a (rigid-body) simulator\n",
    "- In my personal oppinion, a (proper) simulator consists of\n",
    "    - Rigid-body simulation by solving an equation of motion (e.g., an articulated body algorithm)\n",
    "    - Contact solver (main cause of sim-to-real gap)\n",
    "    - Easy-to-use visualizer (`VERY IMPORTANT` for conducting research)\n",
    " \n",
    "##### Throughout the tutorial following topics will be covered:\n",
    "1. Introduction to `MuJoCo` and our lab-maintained mujoco_parser\n",
    "2. Forward Kinematics\n",
    "3. Forward Dynamics\n",
    "4. Inverse Kinematics\n",
    "5. Inverse Dynamics\n",
    "6. Reinforcement Learning using `Soft Actor-Critic` of `Snapbot`\n",
    "\n",
    "# Enjoy!"
   ]
  },
  {
   "cell_type": "code",
   "execution_count": null,
   "id": "cc48df2d-e251-4f75-971b-3b9e02e0a43f",
   "metadata": {},
   "outputs": [],
   "source": [
    "import sys,mujoco\n",
    "sys.path.append('../package/helper/')\n",
    "sys.path.append('../package/mujoco_usage/')\n",
    "from mujoco_parser import *\n",
    "from utility import *\n",
    "print (\"MuJoCo:[%s]\"%(mujoco.__version__))"
   ]
  },
  {
   "cell_type": "markdown",
   "id": "b90ddae9-19cb-46e9-b75a-f0c2485523c5",
   "metadata": {},
   "source": [
    "#### Parse environment"
   ]
  },
  {
   "cell_type": "code",
   "execution_count": null,
   "id": "90091ebb-9ca2-4535-8a65-981accdde612",
   "metadata": {
    "scrolled": true
   },
   "outputs": [],
   "source": [
    "xml_path = '../asset/object/floor_isaac_style.xml'\n",
    "env = MuJoCoParserClass(name='Floor',rel_xml_path=xml_path,verbose=True)"
   ]
  },
  {
   "cell_type": "markdown",
   "id": "a4fe5d37-2d6a-4bd3-9764-b18e9621b2c3",
   "metadata": {},
   "source": [
    "#### Render `floor`"
   ]
  },
  {
   "cell_type": "code",
   "execution_count": null,
   "id": "411e3ea6-3eb7-4d84-a529-253412128471",
   "metadata": {},
   "outputs": [],
   "source": [
    "env.reset(step=True)\n",
    "env.init_viewer()\n",
    "while env.is_viewer_alive():\n",
    "    env.step()\n",
    "    env.render()\n",
    "print (\"Done.\")"
   ]
  },
  {
   "cell_type": "markdown",
   "id": "5b55bb63-c69a-45c1-9e38-69faf336ec07",
   "metadata": {},
   "source": [
    "#### Render with other plot functions"
   ]
  },
  {
   "cell_type": "code",
   "execution_count": null,
   "id": "1378e940-dc42-4edd-a4a4-8ce4f9b93f9a",
   "metadata": {},
   "outputs": [],
   "source": [
    "env.reset(step=True)\n",
    "env.init_viewer()\n",
    "while env.is_viewer_alive():\n",
    "    env.step()\n",
    "    # Render\n",
    "    env.plot_T(print_xyz=True)\n",
    "    env.plot_time()\n",
    "    env.plot_ellipsoid(p=np.array([0,-2.0,1.0]),rx=0.1,ry=0.2,rz=0.3,rgba=(1,0,1,0.5))\n",
    "    env.plot_cylinder(p=np.array([0,-1.0,1.0]),r=0.1,h=0.2,rgba=(1,1,0,0.5))\n",
    "    env.plot_T(p=np.array([0,0,1.0]),axis_len=0.2,axis_width=0.01)\n",
    "    env.plot_arrow(p=np.array([0,1.0,1.0]),R=np.eye(3),r=0.1,h=0.5,rgba=(1,0,0,0.5))\n",
    "    env.plot_box(p=np.array([0,2.0,1.0]),R=np.eye(3),xlen=0.2,ylen=0.2,zlen=0.1,rgba=(0,1,0,0.5))\n",
    "    env.plot_capsule(p=np.array([0,3.0,1.0]),R=np.eye(3),r=0.1,h=0.1,rgba=(0,0,1,0.5))\n",
    "    env.render()\n",
    "print (\"Done.\")"
   ]
  },
  {
   "cell_type": "markdown",
   "id": "6d9c8b94-c134-4302-815e-72e547776225",
   "metadata": {},
   "source": [
    "#### Parse `Unitree G1`"
   ]
  },
  {
   "cell_type": "code",
   "execution_count": null,
   "id": "54dc2b90-c199-4062-b6ac-441e21235f26",
   "metadata": {
    "scrolled": true
   },
   "outputs": [],
   "source": [
    "xml_path = '../asset/unitree_g1/scene_g1.xml'\n",
    "env = MuJoCoParserClass(name='Unitree G1',rel_xml_path=xml_path,verbose=True)"
   ]
  },
  {
   "cell_type": "markdown",
   "id": "eca1733e-082e-414d-8d52-0c269a7803f7",
   "metadata": {},
   "source": [
    "#### Render `G1`"
   ]
  },
  {
   "cell_type": "code",
   "execution_count": null,
   "id": "e3603a95-0457-4eb4-8148-f5058aa9d28e",
   "metadata": {},
   "outputs": [],
   "source": [
    "env.reset(step=True)\n",
    "env.init_viewer()\n",
    "while env.is_viewer_alive():\n",
    "    env.step()\n",
    "    env.render()\n",
    "print (\"Done.\")"
   ]
  },
  {
   "cell_type": "markdown",
   "id": "d2452152-03ac-4827-baae-fbeaf275485a",
   "metadata": {},
   "source": [
    "#### Render `G1` with other information (contact, joint axis, etc..)"
   ]
  },
  {
   "cell_type": "code",
   "execution_count": null,
   "id": "3ef33cba-edde-45a0-a481-95a07b295ae4",
   "metadata": {},
   "outputs": [],
   "source": [
    "env.reset(step=True)\n",
    "env.init_viewer(transparent=True)\n",
    "while env.is_viewer_alive():\n",
    "    env.step()\n",
    "    if env.loop_every(tick_every=10):\n",
    "        env.plot_T()\n",
    "        env.plot_time() # time\n",
    "        env.plot_contact_info() # contact information\n",
    "        env.plot_joint_axis(axis_len=0.025,axis_r=0.005) # revolute joints\n",
    "        env.plot_links_between_bodies(rgba=(0,0,0,1),r=0.001) # link information\n",
    "        env.render()\n",
    "print (\"Done.\")"
   ]
  },
  {
   "cell_type": "markdown",
   "id": "6a835845-f66a-4bb1-bd23-490842749957",
   "metadata": {},
   "source": [
    "#### Render `Google Scanned Objects`"
   ]
  },
  {
   "cell_type": "code",
   "execution_count": null,
   "id": "ccea3aac-12e9-4420-8a04-37b43bd75f17",
   "metadata": {
    "scrolled": true
   },
   "outputs": [],
   "source": [
    "xml_path = '../asset/scanned_objects/scene_objects.xml'\n",
    "env = MuJoCoParserClass(name='Scanned Objects',rel_xml_path=xml_path,verbose=True)"
   ]
  },
  {
   "cell_type": "code",
   "execution_count": null,
   "id": "e0791c8d-81f5-42f4-b4cc-6f6567504b06",
   "metadata": {},
   "outputs": [],
   "source": [
    "env.reset(step=True)\n",
    "# Set object positions\n",
    "obj_names = env.get_body_names(excluding='world') # object names\n",
    "n_obj = len(obj_names)\n",
    "obj_xyzs = sample_xyzs(\n",
    "    n_obj,\n",
    "    x_range   = [-0.45,+0.45],\n",
    "    y_range   = [-0.45,+0.45],\n",
    "    z_range   = [0.51,0.51],\n",
    "    min_dist  = 0.2,\n",
    "    xy_margin = 0.0\n",
    ")\n",
    "for obj_idx in range(n_obj):\n",
    "    env.set_p_base_body(body_name=obj_names[obj_idx],p=obj_xyzs[obj_idx,:])\n",
    "    env.set_R_base_body(body_name=obj_names[obj_idx],R=np.eye(3,3))\n",
    "# Loop\n",
    "env.init_viewer(transparent=False)\n",
    "while env.is_viewer_alive():\n",
    "    env.step()\n",
    "    if env.loop_every(tick_every=10):\n",
    "        env.plot_T()\n",
    "        env.plot_time() # time\n",
    "        env.plot_contact_info() # contact information\n",
    "        env.render()\n",
    "print (\"Done.\")"
   ]
  }
 ],
 "metadata": {
  "kernelspec": {
   "display_name": "rl-env",
   "language": "python",
   "name": "python3"
  },
  "language_info": {
   "codemirror_mode": {
    "name": "ipython",
    "version": 3
   },
   "file_extension": ".py",
   "mimetype": "text/x-python",
   "name": "python",
   "nbconvert_exporter": "python",
   "pygments_lexer": "ipython3",
   "version": "3.10.16"
  }
 },
 "nbformat": 4,
 "nbformat_minor": 5
}
